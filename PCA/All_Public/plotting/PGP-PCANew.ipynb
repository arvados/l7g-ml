{
 "cells": [
  {
   "cell_type": "markdown",
   "metadata": {},
   "source": [
    "## Race and Ethnicity of PGP Particpants"
   ]
  },
  {
   "cell_type": "code",
   "execution_count": null,
   "metadata": {
    "collapsed": false
   },
   "outputs": [],
   "source": [
    "%matplotlib inline\n",
    "import matplotlib.pyplot as plt\n",
    "import sqlite3\n",
    "import pandas as pd\n",
    "import numpy as np\n",
    "import scipy as scipy\n",
    "import scipy.sparse\n",
    "import re\n",
    "\n",
    "from scipy import stats\n",
    "from sklearn.decomposition import PCA\n",
    "from sklearn.decomposition import PCA,TruncatedSVD\n",
    "from sklearn.preprocessing import StandardScaler\n",
    "import seaborn as sns; sns.set()\n",
    "import matplotlib.pyplot as plt\n",
    "import matplotlib.patches as mpatches\n",
    "from mpl_toolkits.mplot3d import Axes3D "
   ]
  },
  {
   "cell_type": "code",
   "execution_count": null,
   "metadata": {
    "collapsed": false
   },
   "outputs": [],
   "source": [
    "# Set default plot stype for matplotlib\n",
    "plt.style.use('ggplot')\n",
    "\n",
    "# Set default figure size for matplotlib\n",
    "plt.rcParams['figure.figsize'] = (12, 6)"
   ]
  },
  {
   "cell_type": "code",
   "execution_count": null,
   "metadata": {
    "collapsed": false
   },
   "outputs": [],
   "source": [
    "X = np.load('/home/swz/PGP-work/Lightning_Work/XfinalPCAAllNewCombine.npy')\n",
    "#X = np.load('/home/swz/PGP-work/Lightning_Work/XfinalPCAAllNew38.npy')\n",
    "#plotnamesuffix = '_373819'\n",
    "plotnamesuffix = '_373819'"
   ]
  },
  {
   "cell_type": "code",
   "execution_count": null,
   "metadata": {
    "collapsed": false
   },
   "outputs": [],
   "source": [
    "X.shape"
   ]
  },
  {
   "cell_type": "code",
   "execution_count": null,
   "metadata": {
    "collapsed": false,
    "scrolled": true
   },
   "outputs": [],
   "source": [
    "plt.scatter(X[:,0], X[:,1])\n"
   ]
  },
  {
   "cell_type": "code",
   "execution_count": null,
   "metadata": {
    "collapsed": false
   },
   "outputs": [],
   "source": [
    "namesfile1 = 'cgf_list37.txt'\n",
    "namesfile2 = 'cgf_list38.txt'\n",
    "namesfile3 = 'cgf_listhg19.txt'\n",
    "\n",
    "names_file1 = open(namesfile1,'r')\n",
    "names_file2 = open(namesfile2,'r')\n",
    "names_file3 = open(namesfile3,'r')\n",
    "\n",
    "names1org = []\n",
    "names2org = []\n",
    "names3org = []\n",
    "\n",
    "for line in names_file1:\n",
    "    names1org.append(line[:-1])\n",
    "    np.arange(3)\n",
    "    \n",
    "    \n",
    "for line in names_file2:\n",
    "    names2org.append(line[:-1])\n",
    "    np.arange(3)\n",
    "    \n",
    "for line in names_file3:\n",
    "    names3org.append(line[:-1])\n",
    "    np.arange(3)\n",
    "    \n",
    "names = names1org + names2org + names3org\n",
    "len(names)"
   ]
  },
  {
   "cell_type": "code",
   "execution_count": null,
   "metadata": {
    "collapsed": false
   },
   "outputs": [],
   "source": [
    "namesarray = np.asarray(names)\n",
    "\n",
    "namesarray3 = namesarray\n",
    "names = namesarray3.tolist()\n",
    "names1 = [i.split('/')[-1] for i in names]\n",
    "names2 = [i.replace('filtered_','') for i in names1]\n",
    "names3 = [i.replace('.haplotypeCalls.er.raw','') for i in names2]\n",
    "names4 = [i.replace('_cg_data_ASM','') for i in names3]\n",
    "names5 = [i.replace('data_','') for i in names4]\n",
    "names6 = [i.replace('.cgf','') for i in names5]\n",
    "names7 = [i.split('_var')[0] for i in names6]\n",
    "names8 = [i.split('_GS')[0] for i in names7]\n",
    "names9 = [i.split('_lcl')[0] for i in names8]\n",
    "names10 = [i.split('_blood')[0] for i in names9]\n",
    "names11 = [i.split('_buffy')[0] for i in names10]\n",
    "names12 = [i.split('_noHLA')[0] for i in names11]\n",
    "names13 = [re.sub('_(S1|sorted).genome','',i) for i in names12]\n",
    "names14 = [re.sub('_.+-portable', '',i) for i in names13]\n"
   ]
  },
  {
   "cell_type": "code",
   "execution_count": null,
   "metadata": {
    "collapsed": false
   },
   "outputs": [],
   "source": [
    "set1 = len(names1org)\n",
    "set2 = len(names2org)\n",
    "set3 = len(names3org)"
   ]
  },
  {
   "cell_type": "code",
   "execution_count": null,
   "metadata": {
    "collapsed": false
   },
   "outputs": [],
   "source": [
    "ancestrySGDP = pd.read_csv('/home/swz/PGP-work/Lightning_Work/SGDP_metadata.txt',encoding='utf8',sep='\\t')"
   ]
  },
  {
   "cell_type": "code",
   "execution_count": null,
   "metadata": {
    "collapsed": false
   },
   "outputs": [],
   "source": [
    "names3org"
   ]
  },
  {
   "cell_type": "code",
   "execution_count": null,
   "metadata": {
    "collapsed": false
   },
   "outputs": [],
   "source": [
    "ancestry1k =pd.read_excel('/home/swz/PGP-work/Lightning_Work/20130606_sample_info.xlsx')"
   ]
  },
  {
   "cell_type": "code",
   "execution_count": null,
   "metadata": {
    "collapsed": false
   },
   "outputs": [],
   "source": [
    "ancestry1k.columns"
   ]
  },
  {
   "cell_type": "code",
   "execution_count": null,
   "metadata": {
    "collapsed": false
   },
   "outputs": [],
   "source": [
    "pcaComponents = pd.DataFrame(np.column_stack([names14, names]),columns=['ID','Filename'])\n"
   ]
  },
  {
   "cell_type": "code",
   "execution_count": null,
   "metadata": {
    "collapsed": false
   },
   "outputs": [],
   "source": [
    "pcaComponents['Reference'] =  0\n",
    "pcaComponents.Reference[0:set1] = '37'\n",
    "pcaComponents.Reference[set1:set1+set2]  = '38'\n",
    "pcaComponents.Reference[set1+set2:set1+set2+set3] = 'hg19'"
   ]
  },
  {
   "cell_type": "code",
   "execution_count": null,
   "metadata": {
    "collapsed": false
   },
   "outputs": [],
   "source": [
    "#pcaComponents =pcaComponents[0:set1+set2]"
   ]
  },
  {
   "cell_type": "code",
   "execution_count": null,
   "metadata": {
    "collapsed": false
   },
   "outputs": [],
   "source": [
    "ancestryMap = ancestrySGDP[['Illumina_ID','Region']]\n",
    "ancestryMap['DataSource'] = 'Simons'\n",
    "np.unique(ancestryMap.Region)\n",
    "ancestryMap['ID'] = ancestrySGDP.Illumina_ID\n",
    "\n",
    "ancestryMap2 = ancestry1k[['Sample','Population']]\n",
    "ancestryMap2['DataSource'] = '1K'\n",
    "ancestryMap2['ID'] = ancestry1k.Sample\n",
    "ancestryMap2['Region'] = ancestry1k.Population\n",
    "\n",
    "ancestries = pd.concat([ancestryMap[['ID','Region','DataSource']], ancestryMap2[['ID','Region','DataSource']]])\n"
   ]
  },
  {
   "cell_type": "code",
   "execution_count": null,
   "metadata": {
    "collapsed": false
   },
   "outputs": [],
   "source": [
    "ancestries"
   ]
  },
  {
   "cell_type": "code",
   "execution_count": null,
   "metadata": {
    "collapsed": false
   },
   "outputs": [],
   "source": [
    "z = pcaComponents.merge(ancestries, how='left', on='ID')"
   ]
  },
  {
   "cell_type": "code",
   "execution_count": null,
   "metadata": {
    "collapsed": true
   },
   "outputs": [],
   "source": []
  },
  {
   "cell_type": "code",
   "execution_count": null,
   "metadata": {
    "collapsed": false
   },
   "outputs": [],
   "source": [
    "z.Region.unique()"
   ]
  },
  {
   "cell_type": "code",
   "execution_count": null,
   "metadata": {
    "collapsed": true
   },
   "outputs": [],
   "source": []
  },
  {
   "cell_type": "code",
   "execution_count": null,
   "metadata": {
    "collapsed": false
   },
   "outputs": [],
   "source": [
    "z['Color'] = 'black'\n",
    "# Simons Colors\n",
    "idxAfrica = z['Region'].str.contains('Africa',na=False)\n",
    "idxAmerica = z['Region'].str.contains('America',na=False)\n",
    "idxOceania = z['Region'].str.contains('Oceania',na=False)\n",
    "idxEastAsia = z['Region'].str.contains('EastAsia',na=False)\n",
    "idxWestEurasia = z['Region'].str.contains('WestEurasia',na=False)\n",
    "idxCentralAsiaSiberia = z['Region'].str.contains('CentralAsiaSiberia',na=False)\n",
    "idxAsiaSouth = z['Region'].str.contains('SouthAsia',na=False)\n",
    "\n",
    "z.Color[idxAfrica] = 'orange' \n",
    "z.Color[idxAmerica] = 'red'\n",
    "z.Color[idxOceania] = 'yellow'\n",
    "z.Color[idxEastAsia] = 'blue'\n",
    "z.Color[idxWestEurasia] = 'pink'\n",
    "z.Color[idxCentralAsiaSiberia] = 'grey'\n",
    "z.Color[idxAsiaSouth] = 'purple'\n",
    "\n",
    "\n",
    "#1K colors\n",
    "idxAmerica1k = z['Region'].isin(['PUR', 'CLM','MXL','PEL'])\n",
    "idxEurope1k = z['Region'].isin(['TSI','IBS','CEU','GBR','FIN'])\n",
    "idxAfrica1k = z['Region'].isin(['LWK','MSL','GWD','YRI','ESN','ACB','ASW'])\n",
    "idxEastAsia1k = z['Region'].isin(['KHV','CDX','CHS','CHB','JPT'])\n",
    "idxSouthAsia1k = z['Region'].isin(['STU','ITU','BEB','GIH','PJL'])\n",
    "z.Color[idxAmerica1k] = 'firebrick'\n",
    "z.Color[idxEurope1k] = 'green'\n",
    "z.Color[idxAfrica1k] = 'coral'\n",
    "z.Color[idxEastAsia1k] = 'royalblue'\n",
    "z.Color[idxSouthAsia1k] = 'blueviolet'\n",
    "\n",
    "\n",
    "#PGP colors\n",
    "idxPGPHarvard = z.ID.str.startswith('hu')\n",
    "idxPGPCanada = z.ID.str.startswith('PGPC')\n",
    "z.Color[idxPGPHarvard] = 'darkslategrey'\n",
    "z.Color[idxPGPCanada] = 'darkolivegreen'"
   ]
  },
  {
   "cell_type": "code",
   "execution_count": null,
   "metadata": {
    "collapsed": false
   },
   "outputs": [],
   "source": [
    "idx38 = z['Reference'] == '38'\n",
    "idx37 = z['Reference'] == '37'\n",
    "idxhg19 = z['Reference'] == 'hg19'"
   ]
  },
  {
   "cell_type": "code",
   "execution_count": null,
   "metadata": {
    "collapsed": false,
    "scrolled": true
   },
   "outputs": [],
   "source": [
    "idxSimons = z.DataSource == 'Simons'\n",
    "idx1K = z.DataSource == '1K'\n",
    "idxPGP = ~ (idxSimons | idx1K)\n",
    "\n",
    "\n",
    "plt.scatter(X[(idxPGP & idx38),0], X[(idxPGP & idx38),1],c=z.Color[(idxPGP & idx38)],marker =\"^\",s=60, alpha = 0.8)\n",
    "xlabel=\"PCA Component 1\"#\n",
    "ylabel=\"PCA Component 2\"\n",
    "plt.xlabel(xlabel)\n",
    "plt.ylabel(ylabel)\n",
    "\n",
    "plt.scatter(X[(idxPGP & idx37),0], X[(idxPGP & idx37),1],c=z.Color[(idxPGP & idx37)],marker =\"o\",s=30, alpha = 0.8)\n",
    "xlabel=\"PCA Component 1\"#\n",
    "ylabel=\"PCA Component 2\"\n",
    "plt.xlabel(xlabel)\n",
    "plt.ylabel(ylabel)\n",
    "\n",
    "\n",
    "plt.scatter(X[(idxPGP & idxhg19),0], X[(idxPGP & idxhg19),1],c=z.Color[(idxPGP & idxhg19)],marker =\"*\",s=80, alpha = 0.8)\n",
    "xlabel=\"PCA Component 1\"\n",
    "ylabel=\"PCA Component 2\"\n",
    "plt.xlabel(xlabel)\n",
    "plt.ylabel(ylabel)\n",
    "\n",
    "\n",
    "plt.scatter(X[(idxSimons & idx38),0], X[(idxSimons & idx38),1],c=z.Color[(idxSimons & idx38)],marker ='^',s=60, alpha = 0.5)\n",
    "xlabel=\"PCA Component 1\"\n",
    "ylabel=\"PCA Component 2\"\n",
    "plt.xlabel(xlabel)\n",
    "plt.ylabel(ylabel)\n",
    "\n",
    "plt.scatter(X[(idxSimons & idx37),0], X[(idxSimons & idx37),1],c=z.Color[(idxSimons & idx37)],marker ='o',s=30, alpha = 0.5)\n",
    "xlabel=\"PCA Component 1\"\n",
    "ylabel=\"PCA Component 2\"\n",
    "plt.xlabel(xlabel)\n",
    "plt.ylabel(ylabel)\n",
    "\n",
    "\n",
    "plt.scatter(X[(idx1K & idx38),0], X[(idx1K & idx38),1],c=z.Color[(idx1K & idx38)],marker ='^',s=60, alpha = 0.5)\n",
    "xlabel=\"PCA Component 1\"\n",
    "ylabel=\"PCA Component 2\"\n",
    "plt.xlabel(xlabel)\n",
    "plt.ylabel(ylabel)\n",
    "\n",
    "plt.scatter(X[(idx1K & idx37),0], X[(idx1K & idx37),1],c=z.Color[(idx1K & idx37)],marker ='o',s=30,alpha = 0.5)\n",
    "xlabel=\"PCA Component 1\"\n",
    "ylabel=\"PCA Component 2\"\n",
    "plt.xlabel(xlabel)\n",
    "plt.ylabel(ylabel)\n",
    "\n",
    "\n",
    "\n",
    "classes = ['Simons: Africa','1K: Africa', 'Simons: Americas', '1K: Americas','Simons: Oceania', 'Simons: EastAsia', \n",
    "           '1K: EastAsia', 'Simons: WestEurasia',\n",
    "           'Simons: CentralAsiaSiberia', 'Simons: SouthAsia','1K: SouthAsia','1K: Europe','PGP UK', 'Harvard PGP', 'PGP Canada']\n",
    "class_colours = ['orange','coral','red','firebrick','yellow','blue','royalblue','pink','grey','purple','blueviolet','green' ,'black','darkslategrey', 'darkolivegreen']\n",
    "recs = []\n",
    "for i in range(0,len(class_colours)):\n",
    "    recs.append(mpatches.Rectangle((0,0),1,1,fc=class_colours[i]))\n",
    "plt.legend(recs,classes,loc='upper right',ncol=2)\n",
    "plt.title('PCA Decomposition of Tiled Simons Diversity, 1000 Genomes, and PGP Data ')\n",
    "\n",
    "plotname = 'PCA12' + plotnamesuffix + '.png'\n",
    "plt.savefig(plotname,format='png', bbox_inches=\"tight\", dpi=300)\n"
   ]
  },
  {
   "cell_type": "code",
   "execution_count": null,
   "metadata": {
    "collapsed": false
   },
   "outputs": [],
   "source": [
    "plt.scatter(X[(idxPGP & idx38),0], X[(idxPGP & idx38),1],c=z.Color[(idxPGP & idx38)],marker =\"^\",s=60, alpha = 0.5)\n",
    "xlabel=\"PCA Component 1\"#\n",
    "ylabel=\"PCA Component 2\"\n",
    "plt.xlabel(xlabel)\n",
    "plt.ylabel(ylabel)\n",
    "\n",
    "plt.scatter(X[(idxPGP & idx37),0], X[(idxPGP & idx37),1],c=z.Color[(idxPGP & idx37)],marker =\"o\",s=30, alpha = 0.5)\n",
    "xlabel=\"PCA Component 1\"#\n",
    "ylabel=\"PCA Component 2\"\n",
    "plt.xlabel(xlabel)\n",
    "plt.ylabel(ylabel)\n",
    "\n",
    "plt.scatter(X[(idxPGP & idxhg19),0], X[(idxPGP & idxhg19),1],c=z.Color[(idxPGP & idxhg19)],marker =\"*\",s=80, alpha = 0.5)\n",
    "xlabel=\"PCA Component 1\"#\n",
    "ylabel=\"PCA Component 2\"\n",
    "plt.xlabel(xlabel)\n",
    "plt.ylabel(ylabel)\n",
    "\n",
    "plt.title('PCA Decomposition of PGP Data ')\n",
    "\n",
    "plotname = 'PCA12PGP' + plotnamesuffix + '.png'\n",
    "plt.savefig(plotname,format='png', bbox_inches=\"tight\", dpi=300)\n"
   ]
  },
  {
   "cell_type": "code",
   "execution_count": null,
   "metadata": {
    "collapsed": false
   },
   "outputs": [],
   "source": [
    "plt.scatter(X[(idxSimons & idx38),0], X[(idxSimons & idx38),1],c=z.Color[(idxSimons & idx38)],marker =\"^\",s=60, alpha = 0.8)\n",
    "xlabel=\"PCA Component 1\"#\n",
    "ylabel=\"PCA Component 2\"\n",
    "plt.xlabel(xlabel)\n",
    "plt.ylabel(ylabel)\n",
    "\n",
    "plt.scatter(X[(idxSimons & idx37),0], X[(idxSimons & idx37),1],c=z.Color[(idxSimons & idx37)],marker =\"o\",s=30, alpha = 0.8)\n",
    "xlabel=\"PCA Component 1\"#\n",
    "ylabel=\"PCA Component 2\"\n",
    "plt.xlabel(xlabel)\n",
    "plt.ylabel(ylabel)\n",
    "\n",
    "plt.scatter(X[(idxSimons & idxhg19),0], X[(idxSimons & idxhg19),1],c=z.Color[(idxSimons & idxhg19)],marker =\"*\",s=30, alpha = 0.8)\n",
    "xlabel=\"PCA Component 1\"#\n",
    "ylabel=\"PCA Component 2\"\n",
    "plt.xlabel(xlabel)\n",
    "plt.ylabel(ylabel)\n",
    "\n",
    "\n",
    "plt.title('PCA Decomposition of Simons Data ')\n",
    "\n",
    "plotname = 'PCA12Simons' + plotnamesuffix + '.png'\n",
    "plt.savefig(plotname,format='png', bbox_inches=\"tight\", dpi=300)\n"
   ]
  },
  {
   "cell_type": "code",
   "execution_count": null,
   "metadata": {
    "collapsed": false
   },
   "outputs": [],
   "source": [
    "plt.scatter(X[(idx1K & idx38),0], X[(idx1K & idx38),1],c=z.Color[(idx1K & idx38)],marker =\"^\",s=60, alpha = 0.8)\n",
    "xlabel=\"PCA Component 1\"#\n",
    "ylabel=\"PCA Component 2\"\n",
    "plt.xlabel(xlabel)\n",
    "plt.ylabel(ylabel)\n",
    "\n",
    "plt.scatter(X[(idx1K & idx37),0], X[(idx1K & idx37),1],c=z.Color[(idx1K & idx37)],marker =\"o\",s=30, alpha = 0.8)\n",
    "xlabel=\"PCA Component 1\"#\n",
    "ylabel=\"PCA Component 2\"\n",
    "plt.xlabel(xlabel)\n",
    "plt.ylabel(ylabel)\n",
    "\n",
    "plt.scatter(X[(idx1K & idxhg19),0], X[(idx1K & idxhg19),1],c=z.Color[(idx1K & idxhg19)],marker =\"*\",s=30, alpha = 0.8)\n",
    "xlabel=\"PCA Component 1\"#\n",
    "ylabel=\"PCA Component 2\"\n",
    "plt.xlabel(xlabel)\n",
    "plt.ylabel(ylabel)\n",
    "\n",
    "\n",
    "plt.title('PCA Decomposition of 1000 Genomes Data ')\n",
    "\n",
    "plotname = 'PCA121K' + plotnamesuffix + '.png'\n",
    "plt.savefig(plotname,format='png', bbox_inches=\"tight\", dpi=300)"
   ]
  },
  {
   "cell_type": "code",
   "execution_count": null,
   "metadata": {
    "collapsed": false
   },
   "outputs": [],
   "source": [
    "idxSimons = z.DataSource == 'Simons'\n",
    "idx1K = z.DataSource == '1K'\n",
    "idxPGP = ~ (idxSimons | idx1K)\n",
    "\n",
    "plt.scatter(X[(idxPGP & idx38),1], X[(idxPGP & idx38),2],c=z.Color[(idxPGP & idx38)],marker =\"^\",s=60, alpha = 0.8)\n",
    "xlabel=\"PCA Component 2\"#\n",
    "ylabel=\"PCA Component 3\"\n",
    "plt.xlabel(xlabel)\n",
    "plt.ylabel(ylabel)\n",
    "\n",
    "plt.scatter(X[(idxPGP & idx37),1], X[(idxPGP & idx37),2],c=z.Color[(idxPGP & idx37)],marker =\"o\",s=30, alpha = 0.8)\n",
    "xlabel=\"PCA Component 2\"#\n",
    "ylabel=\"PCA Component 3\"\n",
    "plt.xlabel(xlabel)\n",
    "plt.ylabel(ylabel)\n",
    "\n",
    "\n",
    "plt.scatter(X[(idxSimons & idx38),1], X[(idxSimons & idx38),2],c=z.Color[(idxSimons & idx38)],marker ='^',s=60, alpha = 0.5)\n",
    "xlabel=\"PCA Component 2\"#\n",
    "ylabel=\"PCA Component 3\"\n",
    "plt.xlabel(xlabel)\n",
    "plt.ylabel(ylabel)\n",
    "\n",
    "plt.scatter(X[(idxSimons & idx37),1], X[(idxSimons & idx37),2],c=z.Color[(idxSimons & idx37)],marker ='o',s=30, alpha = 0.5)\n",
    "xlabel=\"PCA Component 2\"#\n",
    "ylabel=\"PCA Component 3\"\n",
    "plt.xlabel(xlabel)\n",
    "plt.ylabel(ylabel)\n",
    "\n",
    "\n",
    "plt.scatter(X[(idx1K & idx38),1], X[(idx1K & idx38),2],c=z.Color[(idx1K & idx38)],marker ='^',s=60, alpha = 0.5)\n",
    "xlabel=\"PCA Component 2\"#\n",
    "ylabel=\"PCA Component 3\"\n",
    "plt.xlabel(xlabel)\n",
    "plt.ylabel(ylabel)\n",
    "\n",
    "plt.scatter(X[(idx1K & idx37),1], X[(idx1K & idx37),2],c=z.Color[(idx1K & idx37)],marker ='o',s=30,alpha = 0.5)\n",
    "xlabel=\"PCA Component 2\"#\n",
    "ylabel=\"PCA Component 3\"\n",
    "plt.xlabel(xlabel)\n",
    "plt.ylabel(ylabel)\n",
    "\n",
    "\n",
    "\n",
    "classes = ['Simons: Africa','1K: Africa', 'Simons: Americas', '1K: Americas','Simons: Oceania', 'Simons: EastAsia', \n",
    "           '1K: EastAsia', 'Simons: WestEurasia',\n",
    "           'Simons: CentralAsiaSiberia', 'Simons: SouthAsia','1K: SouthAsia','1K: Europe','PGP']\n",
    "class_colours = ['orange','coral','red','firebrick','yellow','blue','royalblue','pink','grey','purple','blueviolet','green' ,'black']\n",
    "recs = []\n",
    "for i in range(0,len(class_colours)):\n",
    "    recs.append(mpatches.Rectangle((0,0),1,1,fc=class_colours[i]))\n",
    "plt.legend(recs,classes,loc='upper left',ncol=2)\n",
    "plt.title('PCA Decomposition of Tiled Simons Diversity, 1000 Genomes, and PGP Data ')\n",
    "\n",
    "\n",
    "\n",
    "plotname = 'PCA23' + plotnamesuffix + '.png'\n",
    "\n",
    "plt.savefig(plotname,format='png', bbox_inches=\"tight\", dpi=300)\n"
   ]
  },
  {
   "cell_type": "code",
   "execution_count": null,
   "metadata": {
    "collapsed": false
   },
   "outputs": [],
   "source": [
    "fig = plt.figure()\n",
    "ax = fig.add_subplot(111, projection='3d')\n",
    "\n",
    "idxSimons = z.DataSource == 'Simons'\n",
    "idx1K = z.DataSource == '1K'\n",
    "idxPGP = ~ (idxSimons | idx1K)\n",
    "\n",
    "\n",
    "ax.scatter(X[(idxPGP & idx38),0], X[(idxPGP & idx38),1],X[(idxPGP & idx38),2] ,c=z.Color[(idxPGP & idx38)],marker =\"^\",s=60, alpha = 0.8)\n",
    "ax.scatter(X[(idxPGP & idx37),0], X[(idxPGP & idx37),1],X[(idxPGP & idx37),2],c=z.Color[(idxPGP & idx37)],marker =\"o\",s=30, alpha = 0.8)\n",
    "ax.scatter(X[(idxSimons & idx38),0], X[(idxSimons & idx38),1],X[(idxSimons & idx38),2],c=z.Color[(idxSimons & idx38)],marker ='^',s=60, alpha = 0.5)\n",
    "ax.scatter(X[(idxSimons & idx37),0], X[(idxSimons & idx37),1],X[(idxSimons & idx37),2],c=z.Color[(idxSimons & idx37)],marker ='o',s=30, alpha = 0.5)\n",
    "ax.scatter(X[(idx1K & idx38),0],X[(idx1K & idx38),1],X[(idx1K & idx38),2],c=z.Color[(idx1K & idx38)],marker ='^',s=60, alpha = 0.5)\n",
    "ax.scatter(X[(idx1K & idx37),0],X[(idx1K & idx37),1], X[(idx1K & idx37),2],c=z.Color[(idx1K & idx37)],marker ='o',s=30,alpha = 0.5)\n",
    "\n",
    "\n",
    "\n",
    "\n",
    "ax.view_init(30, 30)\n",
    "classes = ['Simons: Africa','1K: Africa', 'Simons: Americas', '1K: Americas','Simons: Oceania', 'Simons: EastAsia', \n",
    "           '1K: EastAsia', 'Simons: WestEurasia',\n",
    "           'Simons: CentralAsiaSiberia', 'Simons: SouthAsia','1K: SouthAsia','1K: Europe','PGP']\n",
    "class_colours = ['orange','coral','red','firebrick','yellow','blue','royalblue','pink','grey','purple','blueviolet','green' ,'black']\n",
    "recs = []\n",
    "for i in range(0,len(class_colours)):\n",
    "    recs.append(mpatches.Rectangle((0,0),1,1,fc=class_colours[i]))\n",
    "plt.legend(recs,classes,loc='center left')\n",
    "plt.title('PCA Decomposition of Tiled Simons Diversity, 1000 Genomes, and PGP Data ')\n",
    "\n",
    "\n",
    "plotname = 'PCA3D' + plotnamesuffix + '.png'\n",
    "\n",
    "plt.savefig(plotname,format='png', dpi=300)\n"
   ]
  },
  {
   "cell_type": "code",
   "execution_count": null,
   "metadata": {
    "collapsed": true
   },
   "outputs": [],
   "source": []
  }
 ],
 "metadata": {
  "anaconda-cloud": {},
  "kernelspec": {
   "display_name": "Python [conda root]",
   "language": "python",
   "name": "conda-root-py"
  },
  "language_info": {
   "codemirror_mode": {
    "name": "ipython",
    "version": 3
   },
   "file_extension": ".py",
   "mimetype": "text/x-python",
   "name": "python",
   "nbconvert_exporter": "python",
   "pygments_lexer": "ipython3",
   "version": "3.5.2"
  }
 },
 "nbformat": 4,
 "nbformat_minor": 0
}
